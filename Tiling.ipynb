{
 "cells": [
  {
   "cell_type": "code",
   "execution_count": 9,
   "metadata": {},
   "outputs": [],
   "source": [
    "import numpy as np\n",
    "import slideio\n",
    "import os\n",
    "import warnings\n",
    "import pandas as pd\n",
    "from PIL import Image\n",
    "from glob import glob\n",
    "from tqdm.notebook import tqdm\n",
    "import warnings\n",
    "import math\n",
    "# 경고 메시지를 무시하도록 설정\n",
    "warnings.filterwarnings(\"ignore\")\n",
    "def createDirectory(directory):\n",
    "    try:\n",
    "        if not os.path.exists(directory):\n",
    "            os.makedirs(directory)\n",
    "    except OSError:\n",
    "        print(\"Error: Failed to create the directory.\")"
   ]
  },
  {
   "cell_type": "code",
   "execution_count": 10,
   "metadata": {},
   "outputs": [],
   "source": [
    "HE_files='../../data/H&E_C23-020730.ndpi'\n",
    "pap_files='../../data/Pap_C23-020730.ndpi'\n",
    "\n",
    "\n"
   ]
  },
  {
   "cell_type": "code",
   "execution_count": 11,
   "metadata": {},
   "outputs": [],
   "source": [
    "slide_tile_size=1024\n",
    "count=0\n",
    "slide = slideio.open_slide(HE_files, \"NDPI\")\n",
    "scene = slide.get_scene(0)\n",
    "svsWidth = scene.rect[2]\n",
    "svsHeight = scene.rect[3]\n",
    "ratio=0\n",
    "for widthCount in range(0, int(svsWidth // slide_tile_size)):\n",
    "    for heightCount in range(0, int(svsHeight // slide_tile_size)):\n",
    "        image = scene.read_block((widthCount * slide_tile_size, heightCount * slide_tile_size, slide_tile_size, slide_tile_size),size=(256,256))\n",
    "        img=Image.fromarray(image)\n",
    "        img.save('../../data/he/'+str(widthCount*slide_tile_size)+'_'+str(heightCount*slide_tile_size)+'.jpg')\n",
    "        count+=1\n",
    "                    \n"
   ]
  },
  {
   "cell_type": "code",
   "execution_count": 12,
   "metadata": {},
   "outputs": [],
   "source": [
    "slide_tile_size=1024\n",
    "count=0\n",
    "slide = slideio.open_slide(pap_files, \"NDPI\")\n",
    "scene = slide.get_scene(0)\n",
    "svsWidth = scene.rect[2]\n",
    "svsHeight = scene.rect[3]\n",
    "ratio=0\n",
    "for widthCount in range(0, int(svsWidth // slide_tile_size)):\n",
    "    for heightCount in range(0, int(svsHeight // slide_tile_size)):\n",
    "        image = scene.read_block((widthCount * slide_tile_size, heightCount * slide_tile_size, slide_tile_size, slide_tile_size),size=(256,256))\n",
    "        img=Image.fromarray(image)\n",
    "        img.save('../../data/pap/'+str(widthCount*slide_tile_size)+'_'+str(heightCount*slide_tile_size)+'.jpg')\n",
    "        count+=1\n",
    "                    "
   ]
  }
 ],
 "metadata": {
  "kernelspec": {
   "display_name": "LeeYS_tf210",
   "language": "python",
   "name": "python3"
  },
  "language_info": {
   "codemirror_mode": {
    "name": "ipython",
    "version": 3
   },
   "file_extension": ".py",
   "mimetype": "text/x-python",
   "name": "python",
   "nbconvert_exporter": "python",
   "pygments_lexer": "ipython3",
   "version": "3.9.0"
  },
  "orig_nbformat": 4
 },
 "nbformat": 4,
 "nbformat_minor": 2
}
